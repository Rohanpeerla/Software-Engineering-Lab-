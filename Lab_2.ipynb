{
  "nbformat": 4,
  "nbformat_minor": 0,
  "metadata": {
    "colab": {
      "provenance": [],
      "authorship_tag": "ABX9TyMKWMxFE6Z4RUJgxcAY8bRb",
      "include_colab_link": true
    },
    "kernelspec": {
      "name": "python3",
      "display_name": "Python 3"
    },
    "language_info": {
      "name": "python"
    }
  },
  "cells": [
    {
      "cell_type": "markdown",
      "metadata": {
        "id": "view-in-github",
        "colab_type": "text"
      },
      "source": [
        "<a href=\"https://colab.research.google.com/github/Rohanpeerla/Software-Engineering-Lab-/blob/main/Lab_2.ipynb\" target=\"_parent\"><img src=\"https://colab.research.google.com/assets/colab-badge.svg\" alt=\"Open In Colab\"/></a>"
      ]
    },
    {
      "cell_type": "code",
      "source": [
        "#hard coding varibles\n",
        "def calculate_w(t, h):\n",
        "    return (0.5 * t**2 - 0.2 * h - 15) / 0.9\n",
        "\n",
        "def main():\n",
        "    print(\"\\nUsing the formula:\")\n",
        "    print(\"w = (0.5 * t^2 - 0.2 * h - 15) / 0.9\")\n",
        "    print(\"\\nEnter the temperature and humidity:\")\n",
        "    temperature = 20\n",
        "    humidity = 60\n",
        "\n",
        "    w = calculate_w(temperature, humidity)\n",
        "    print(f\"\\nFor Temperature: {temperature}°C and Humidity: {humidity}%\")\n",
        "    print(f\"Calculated w: {w}\")\n",
        "\n",
        "if __name__ == \"__main__\":\n",
        "    main()\n"
      ],
      "metadata": {
        "colab": {
          "base_uri": "https://localhost:8080/"
        },
        "id": "bCVb27FrZNm9",
        "outputId": "3ba27a58-c4eb-4311-ea96-0858ef916890"
      },
      "execution_count": 1,
      "outputs": [
        {
          "output_type": "stream",
          "name": "stdout",
          "text": [
            "\n",
            "Using the formula:\n",
            "w = (0.5 * t^2 - 0.2 * h - 15) / 0.9\n",
            "\n",
            "Enter the temperature and humidity:\n",
            "\n",
            "For Temperature: 20°C and Humidity: 60%\n",
            "Calculated w: 192.22222222222223\n"
          ]
        }
      ]
    },
    {
      "cell_type": "code",
      "source": [
        "#single input\n",
        "def calculate_weather_index(t, h):\n",
        "    return (0.5 * t**2 - 0.2 * h - 15) / 0.9\n",
        "\n",
        "filename = 'single.txt'\n",
        "\n",
        "try:\n",
        "    with open(filename, 'r') as file:\n",
        "        line = file.readline().strip()\n",
        "        t, h = map(float, line.split())\n",
        "        w = calculate_weather_index(t, h)\n",
        "        print(\"\\nUsing the formula:\")\n",
        "        print(\"w = (0.5 * t^2 - 0.2 * h - 15) / 0.9\")\n",
        "        print(f\"File input -> Temperature: {t}, Humidity: {h}, Weather Index: {w:.2f}\")\n",
        "except Exception as e:\n",
        "    print(f\"Error reading the file: {e}\")\n"
      ],
      "metadata": {
        "colab": {
          "base_uri": "https://localhost:8080/"
        },
        "id": "-1S9kAddZVk8",
        "outputId": "c9715ef4-2792-4ced-80cd-53b760dd0bdc"
      },
      "execution_count": 3,
      "outputs": [
        {
          "output_type": "stream",
          "name": "stdout",
          "text": [
            "\n",
            "Using the formula:\n",
            "w = (0.5 * t^2 - 0.2 * h - 15) / 0.9\n",
            "File input -> Temperature: 150.0, Humidity: 68.0, Weather Index: 12468.22\n"
          ]
        }
      ]
    },
    {
      "cell_type": "code",
      "source": [
        "#keyboard input\n",
        "def calculate_w(t, h):\n",
        "    return (0.5 * t**2 - 0.2 * h - 15) / 0.9\n",
        "\n",
        "def main():\n",
        "    print(\"\\nUsing the formula:\")\n",
        "    print(\"w = (0.5 * t^2 - 0.2 * h - 15) / 0.9\")\n",
        "\n",
        "    while True:\n",
        "        try:\n",
        "            temperature = float(input(\"Enter temperature in °C: \"))\n",
        "            humidity = float(input(\"Enter humidity in %: \"))\n",
        "            if 0 <= humidity <= 100:\n",
        "                break\n",
        "            else:\n",
        "                print(\"Humidity must be between 0% and 100%.\")\n",
        "        except ValueError:\n",
        "            print(\"Invalid input. Please enter a number.\")\n",
        "\n",
        "    w = calculate_w(temperature, humidity)\n",
        "    print(f\"\\nFor Temperature: {temperature}°C and Humidity: {humidity}%\")\n",
        "    print(f\"Calculated w: {w}\")\n",
        "\n",
        "if __name__ == \"__main__\":\n",
        "    main()\n",
        "\n"
      ],
      "metadata": {
        "colab": {
          "base_uri": "https://localhost:8080/"
        },
        "id": "vIBLe0bNZZQE",
        "outputId": "7099f6d1-8d6e-4e5f-fbca-d5c05713c5a3"
      },
      "execution_count": 5,
      "outputs": [
        {
          "output_type": "stream",
          "name": "stdout",
          "text": [
            "\n",
            "Using the formula:\n",
            "w = (0.5 * t^2 - 0.2 * h - 15) / 0.9\n",
            "Enter temperature in °C: 12\n",
            "Enter humidity in %: 51\n",
            "\n",
            "For Temperature: 12.0°C and Humidity: 51.0%\n",
            "Calculated w: 51.99999999999999\n"
          ]
        }
      ]
    },
    {
      "cell_type": "code",
      "source": [
        "#multiple input\n",
        "def calculate_weather_index(t, h):\n",
        "\n",
        "    return (0.5 * t**2 - 0.2 * h - 15) / 0.9\n",
        "\n",
        "\n",
        "def multiple_inputs_file_solution(filename):\n",
        "    try:\n",
        "        with open(filename, 'r') as file:\n",
        "            print(\"\\nMultiple Inputs from File:\")\n",
        "            for i, line in enumerate(file, start=1):\n",
        "                line = line.strip()\n",
        "                if not line:\n",
        "                    continue\n",
        "                t, h = map(float, line.split())\n",
        "                w = calculate_weather_index(t, h)\n",
        "                print(f\"Temperature: {t}, Humidity: {h}, Weather Index: {w:.2f}\")\n",
        "    except Exception as e:\n",
        "        print(f\"Error reading the file: {e}\")\n",
        "\n",
        "\n",
        "filename = 'multiple_weather_input.txt'\n",
        "multiple_inputs_file_solution(filename)"
      ],
      "metadata": {
        "colab": {
          "base_uri": "https://localhost:8080/"
        },
        "id": "l1LSh2PNZeI0",
        "outputId": "a989ac7f-2ee8-4063-a134-a06dd2c5665d"
      },
      "execution_count": 9,
      "outputs": [
        {
          "output_type": "stream",
          "name": "stdout",
          "text": [
            "\n",
            "Multiple Inputs from File:\n",
            "Temperature: 12.0, Humidity: 25.0, Weather Index: 57.78\n",
            "Temperature: 28.0, Humidity: 40.0, Weather Index: 410.00\n",
            "Temperature: 20.0, Humidity: 50.0, Weather Index: 194.44\n"
          ]
        }
      ]
    },
    {
      "cell_type": "code",
      "source": [],
      "metadata": {
        "id": "vpHjXerbbvAP"
      },
      "execution_count": 9,
      "outputs": []
    }
  ]
}