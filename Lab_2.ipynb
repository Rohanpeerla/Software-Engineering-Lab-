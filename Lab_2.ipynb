{
  "nbformat": 4,
  "nbformat_minor": 0,
  "metadata": {
    "colab": {
      "provenance": [],
      "authorship_tag": "ABX9TyPslsU+6O/J+uT9lQTsCHh/",
      "include_colab_link": true
    },
    "kernelspec": {
      "name": "python3",
      "display_name": "Python 3"
    },
    "language_info": {
      "name": "python"
    }
  },
  "cells": [
    {
      "cell_type": "markdown",
      "metadata": {
        "id": "view-in-github",
        "colab_type": "text"
      },
      "source": [
        "<a href=\"https://colab.research.google.com/github/Rohanpeerla/Software-Engineering-Lab-/blob/main/Lab_2.ipynb\" target=\"_parent\"><img src=\"https://colab.research.google.com/assets/colab-badge.svg\" alt=\"Open In Colab\"/></a>"
      ]
    },
    {
      "cell_type": "code",
      "source": [
        "#hard coding varibles\n",
        "import math\n",
        "def get_weather_data():\n",
        "    location = input(\"Enter location (city, country): \")\n",
        "    temperature = float(input(\"Enter temperature (°C): \"))\n",
        "    humidity = float(input(\"Enter humidity (%): \"))\n",
        "    wind_speed = float(input(\"Enter wind speed (km/h): \"))\n",
        "    return location, temperature, humidity, wind_speed\n",
        "\n",
        "def preprocess_data(temperature, humidity, wind_speed):\n",
        "    if temperature < -30 or temperature > 50:\n",
        "        raise ValueError(\"Temperature out of range.\")\n",
        "    if humidity < 0 or humidity > 100:\n",
        "        raise ValueError(\"Humidity out of range.\")\n",
        "    if wind_speed < 0:\n",
        "        raise ValueError(\"Wind speed cannot be negative.\")\n",
        "    return temperature, humidity, wind_speed\n",
        "\n",
        "def model_processor(temperature, humidity, wind_speed):\n",
        "    W = 0.5 * temperature**2 - 0.2 * humidity + 0.1 * wind_speed - 15\n",
        "    return W\n",
        "def prediction_engine(W):\n",
        "    if W < 10:\n",
        "        return \"Sunny\"\n",
        "    elif 10 <= W < 20:\n",
        "        return \"Cloudy\"\n",
        "    elif 20 <= W < 30:\n",
        "        return \"Rainy\"\n",
        "    else:\n",
        "        return \"Stormy\"\n",
        "def display_output(prediction):\n",
        "    print(f\"Predicted weather: {prediction}\")\n",
        "def main():\n",
        "    location, temperature, humidity, wind_speed = get_weather_data()\n",
        "    temperature, humidity, wind_speed = preprocess_data(temperature, humidity, wind_speed)\n",
        "    W = model_processor(temperature, humidity, wind_speed)\n",
        "    prediction = prediction_engine(W)\n",
        "    display_output(prediction)\n",
        "if __name__ == \"__main__\":\n",
        "    main()\n"
      ],
      "metadata": {
        "colab": {
          "base_uri": "https://localhost:8080/"
        },
        "id": "bCVb27FrZNm9",
        "outputId": "1a0ae286-eae9-467a-ed1e-0bc624db4263"
      },
      "execution_count": 12,
      "outputs": [
        {
          "output_type": "stream",
          "name": "stdout",
          "text": [
            "Enter location (city, country): india\n",
            "Enter temperature (°C): 12\n",
            "Enter humidity (%): 51\n",
            "Enter wind speed (km/h): 2\n",
            "Predicted weather: Stormy\n"
          ]
        }
      ]
    },
    {
      "cell_type": "code",
      "source": [
        "#single input\n",
        "def calculate_weather_index(t, h):\n",
        "    return (0.5 * t**2 - 0.2 * h - 15) / 0.9\n",
        "\n",
        "filename = 'single.txt'\n",
        "\n",
        "try:\n",
        "    with open(filename, 'r') as file:\n",
        "        line = file.readline().strip()\n",
        "        t, h = map(float, line.split())\n",
        "        w = calculate_weather_index(t, h)\n",
        "        print(\"\\nUsing the formula:\")\n",
        "        print(\"w = (0.5 * t^2 - 0.2 * h - 15) / 0.9\")\n",
        "        print(f\"File input -> Temperature: {t}, Humidity: {h}, Weather Index: {w:.2f}\")\n",
        "except Exception as e:\n",
        "    print(f\"Error reading the file: {e}\")\n"
      ],
      "metadata": {
        "colab": {
          "base_uri": "https://localhost:8080/"
        },
        "id": "-1S9kAddZVk8",
        "outputId": "c9715ef4-2792-4ced-80cd-53b760dd0bdc"
      },
      "execution_count": null,
      "outputs": [
        {
          "output_type": "stream",
          "name": "stdout",
          "text": [
            "\n",
            "Using the formula:\n",
            "w = (0.5 * t^2 - 0.2 * h - 15) / 0.9\n",
            "File input -> Temperature: 150.0, Humidity: 68.0, Weather Index: 12468.22\n"
          ]
        }
      ]
    },
    {
      "cell_type": "code",
      "source": [
        "#keyboard input\n",
        "def calculate_w(t, h):\n",
        "    return (0.5 * t**2 - 0.2 * h - 15) / 0.9\n",
        "\n",
        "def main():\n",
        "    print(\"\\nUsing the formula:\")\n",
        "    print(\"w = (0.5 * t^2 - 0.2 * h - 15) / 0.9\")\n",
        "\n",
        "    while True:\n",
        "        try:\n",
        "            temperature = float(input(\"Enter temperature in °C: \"))\n",
        "            humidity = float(input(\"Enter humidity in %: \"))\n",
        "            if 0 <= humidity <= 100:\n",
        "                break\n",
        "            else:\n",
        "                print(\"Humidity must be between 0% and 100%.\")\n",
        "        except ValueError:\n",
        "            print(\"Invalid input. Please enter a number.\")\n",
        "\n",
        "    w = calculate_w(temperature, humidity)\n",
        "    print(f\"\\nFor Temperature: {temperature}°C and Humidity: {humidity}%\")\n",
        "    print(f\"Calculated w: {w}\")\n",
        "\n",
        "if __name__ == \"__main__\":\n",
        "    main()\n",
        "\n"
      ],
      "metadata": {
        "colab": {
          "base_uri": "https://localhost:8080/"
        },
        "id": "vIBLe0bNZZQE",
        "outputId": "7099f6d1-8d6e-4e5f-fbca-d5c05713c5a3"
      },
      "execution_count": null,
      "outputs": [
        {
          "output_type": "stream",
          "name": "stdout",
          "text": [
            "\n",
            "Using the formula:\n",
            "w = (0.5 * t^2 - 0.2 * h - 15) / 0.9\n",
            "Enter temperature in °C: 12\n",
            "Enter humidity in %: 51\n",
            "\n",
            "For Temperature: 12.0°C and Humidity: 51.0%\n",
            "Calculated w: 51.99999999999999\n"
          ]
        }
      ]
    },
    {
      "cell_type": "code",
      "source": [
        "#multiple input\n",
        "def calculate_weather_index(t, h):\n",
        "\n",
        "    return (0.5 * t**2 - 0.2 * h - 15) / 0.9\n",
        "\n",
        "\n",
        "def multiple_inputs_file_solution(filename):\n",
        "    try:\n",
        "        with open(filename, 'r') as file:\n",
        "            print(\"\\nMultiple Inputs from File:\")\n",
        "            for i, line in enumerate(file, start=1):\n",
        "                line = line.strip()\n",
        "                if not line:\n",
        "                    continue\n",
        "                t, h = map(float, line.split())\n",
        "                w = calculate_weather_index(t, h)\n",
        "                print(f\"Temperature: {t}, Humidity: {h}, Weather Index: {w:.2f}\")\n",
        "    except Exception as e:\n",
        "        print(f\"Error reading the file: {e}\")\n",
        "\n",
        "\n",
        "filename = 'multiple_weather_input.txt'\n",
        "multiple_inputs_file_solution(filename)"
      ],
      "metadata": {
        "colab": {
          "base_uri": "https://localhost:8080/"
        },
        "id": "l1LSh2PNZeI0",
        "outputId": "23c1c3e2-7757-4ef5-df95-f5a8653399b2"
      },
      "execution_count": null,
      "outputs": [
        {
          "output_type": "stream",
          "name": "stdout",
          "text": [
            "\n",
            "Multiple Inputs from File:\n",
            "Temperature: 25.0, Humidity: 60.0, Weather Index: 317.22\n",
            "Temperature: 28.0, Humidity: 40.0, Weather Index: 410.00\n",
            "Temperature: 20.0, Humidity: 70.0, Weather Index: 190.00\n"
          ]
        }
      ]
    },
    {
      "cell_type": "code",
      "source": [],
      "metadata": {
        "id": "vpHjXerbbvAP"
      },
      "execution_count": null,
      "outputs": []
    }
  ]
}