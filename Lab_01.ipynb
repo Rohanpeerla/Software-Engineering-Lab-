{
  "nbformat": 4,
  "nbformat_minor": 0,
  "metadata": {
    "colab": {
      "provenance": [],
      "authorship_tag": "ABX9TyPwDnND4kEB483UF3ChF2Vh",
      "include_colab_link": true
    },
    "kernelspec": {
      "name": "python3",
      "display_name": "Python 3"
    },
    "language_info": {
      "name": "python"
    }
  },
  "cells": [
    {
      "cell_type": "markdown",
      "metadata": {
        "id": "view-in-github",
        "colab_type": "text"
      },
      "source": [
        "<a href=\"https://colab.research.google.com/github/Rohanpeerla/Software-Engineering-Lab-/blob/master/Lab_01.ipynb\" target=\"_parent\"><img src=\"https://colab.research.google.com/assets/colab-badge.svg\" alt=\"Open In Colab\"/></a>"
      ]
    },
    {
      "cell_type": "code",
      "execution_count": null,
      "metadata": {
        "colab": {
          "base_uri": "https://localhost:8080/"
        },
        "id": "wTzhW44SSPKe",
        "outputId": "77913e51-18d8-4f7a-99fa-b84a5c8080d4"
      },
      "outputs": [
        {
          "output_type": "stream",
          "name": "stdout",
          "text": [
            "2\n",
            "10\n"
          ]
        }
      ],
      "source": [
        "#addition of numbers\n",
        "a = 2\n",
        "print(a)\n",
        "a = 2\n",
        "b = 8\n",
        "print(a + b)"
      ]
    },
    {
      "cell_type": "code",
      "source": [
        "a = \"Sai\"\n",
        "b = \"Rohan\"\n",
        "print(a+b)"
      ],
      "metadata": {
        "colab": {
          "base_uri": "https://localhost:8080/"
        },
        "id": "nQ7Rxb0TgN_O",
        "outputId": "b2ece172-2108-409f-9647-f513f613e392"
      },
      "execution_count": 9,
      "outputs": [
        {
          "output_type": "stream",
          "name": "stdout",
          "text": [
            "SaiRohan\n"
          ]
        }
      ]
    },
    {
      "cell_type": "code",
      "source": [],
      "metadata": {
        "id": "9n3Fq5azgDzo"
      },
      "execution_count": null,
      "outputs": []
    }
  ]
}